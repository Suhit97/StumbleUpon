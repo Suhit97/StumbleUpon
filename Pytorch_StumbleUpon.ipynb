{
  "nbformat": 4,
  "nbformat_minor": 0,
  "metadata": {
    "colab": {
      "name": "Pytorch StumbleUpon.ipynb",
      "provenance": [],
      "collapsed_sections": [],
      "authorship_tag": "ABX9TyMIe8iDmK9n5inxFGGr1Bs0",
      "include_colab_link": true
    },
    "kernelspec": {
      "name": "python3",
      "display_name": "Python 3"
    },
    "accelerator": "GPU"
  },
  "cells": [
    {
      "cell_type": "markdown",
      "metadata": {
        "id": "view-in-github",
        "colab_type": "text"
      },
      "source": [
        "<a href=\"https://colab.research.google.com/github/Suhit97/StumbleUpon/blob/main/Pytorch_StumbleUpon.ipynb\" target=\"_parent\"><img src=\"https://colab.research.google.com/assets/colab-badge.svg\" alt=\"Open In Colab\"/></a>"
      ]
    },
    {
      "cell_type": "markdown",
      "metadata": {
        "id": "1E356hweN5Z4"
      },
      "source": [
        ""
      ]
    },
    {
      "cell_type": "code",
      "metadata": {
        "colab": {
          "base_uri": "https://localhost:8080/"
        },
        "id": "NJXXYYDWvuvz",
        "outputId": "d4ee2304-a32c-4b92-b0fa-ee87039110f5"
      },
      "source": [
        "from google.colab import drive\r\n",
        "drive.mount('/content/gdrive')"
      ],
      "execution_count": 1,
      "outputs": [
        {
          "output_type": "stream",
          "text": [
            "Drive already mounted at /content/gdrive; to attempt to forcibly remount, call drive.mount(\"/content/gdrive\", force_remount=True).\n"
          ],
          "name": "stdout"
        }
      ]
    },
    {
      "cell_type": "code",
      "metadata": {
        "colab": {
          "base_uri": "https://localhost:8080/"
        },
        "id": "lFGupQC5vx7V",
        "outputId": "25c13281-aa4e-45df-c70d-8648248d20c6"
      },
      "source": [
        "%cd /content/gdrive/MyDrive/Stumble_Upon/"
      ],
      "execution_count": 2,
      "outputs": [
        {
          "output_type": "stream",
          "text": [
            "/content/gdrive/MyDrive/Stumble_Upon\n"
          ],
          "name": "stdout"
        }
      ]
    },
    {
      "cell_type": "code",
      "metadata": {
        "colab": {
          "base_uri": "https://localhost:8080/"
        },
        "id": "zjrRn9Edf0Ky",
        "outputId": "21907e83-ed63-4881-e94d-0cc092489312"
      },
      "source": [
        "!wget https://dl.fbaipublicfiles.com/fasttext/vectors-english/wiki-news-300d-1M.vec.zip -P /content/gdrive/MyDrive/Stumble_Upon/"
      ],
      "execution_count": 16,
      "outputs": [
        {
          "output_type": "stream",
          "text": [
            "--2021-03-01 15:54:48--  https://dl.fbaipublicfiles.com/fasttext/vectors-english/wiki-news-300d-1M.vec.zip\n",
            "Resolving dl.fbaipublicfiles.com (dl.fbaipublicfiles.com)... 104.22.75.142, 172.67.9.4, 104.22.74.142, ...\n",
            "Connecting to dl.fbaipublicfiles.com (dl.fbaipublicfiles.com)|104.22.75.142|:443... connected.\n",
            "HTTP request sent, awaiting response... 200 OK\n",
            "Length: 681808098 (650M) [application/zip]\n",
            "Saving to: ‘/content/gdrive/MyDrive/Stumble_Upon/wiki-news-300d-1M.vec.zip’\n",
            "\n",
            "wiki-news-300d-1M.v 100%[===================>] 650.22M  14.1MB/s    in 47s     \n",
            "\n",
            "2021-03-01 15:55:36 (13.8 MB/s) - ‘/content/gdrive/MyDrive/Stumble_Upon/wiki-news-300d-1M.vec.zip’ saved [681808098/681808098]\n",
            "\n"
          ],
          "name": "stdout"
        }
      ]
    },
    {
      "cell_type": "code",
      "metadata": {
        "id": "f77byvsDlM1T"
      },
      "source": [
        "import zipfile\r\n",
        "\r\n",
        "our_zip = 'wiki-news-300d-1M.vec.zip'\r\n",
        "zip_ref = zipfile.ZipFile(our_zip, 'r')\r\n",
        "zip_ref.extractall('/content/gdrive/MyDrive/Stumble_Upon/')\r\n",
        "zip_ref.close()"
      ],
      "execution_count": 19,
      "outputs": []
    },
    {
      "cell_type": "code",
      "metadata": {
        "id": "M_4NyoDppe89"
      },
      "source": [
        "import pandas as pd\r\n",
        "import numpy as np\r\n",
        "\r\n",
        "import torch\r\n",
        "import torch.nn as nn\r\n",
        "from torchtext import data\r\n",
        "\r\n",
        "from keras.preprocessing import sequence\r\n",
        "from keras.preprocessing.text import Tokenizer\r\n",
        "\r\n",
        "import matplotlib.pyplot as plt\r\n",
        "import seaborn as sns\r\n",
        "\r\n",
        "from sklearn.model_selection import train_test_split\r\n",
        "import random\r\n",
        "import pickle\r\n",
        "from torch.utils.data import DataLoader, Dataset\r\n",
        "import torch.nn.functional as F"
      ],
      "execution_count": 3,
      "outputs": []
    },
    {
      "cell_type": "code",
      "metadata": {
        "colab": {
          "base_uri": "https://localhost:8080/"
        },
        "id": "6kC32Gmz3TvD",
        "outputId": "ff1ad614-2c42-4937-891f-1991a3566c8a"
      },
      "source": [
        "device = torch.device('cuda:0' if torch.cuda.is_available() else 'cpu')\r\n",
        "print(device)"
      ],
      "execution_count": 4,
      "outputs": [
        {
          "output_type": "stream",
          "text": [
            "cuda:0\n"
          ],
          "name": "stdout"
        }
      ]
    },
    {
      "cell_type": "code",
      "metadata": {
        "colab": {
          "base_uri": "https://localhost:8080/",
          "height": 206
        },
        "id": "xU0HqUmEwVPl",
        "outputId": "bea07994-5165-46c6-f7f5-9bedfd650d7e"
      },
      "source": [
        "train_new = pd.read_csv('new_train.csv')\r\n",
        "test_new = pd.read_csv('new_test.csv')\r\n",
        "train_new.head()"
      ],
      "execution_count": 62,
      "outputs": [
        {
          "output_type": "execute_result",
          "data": {
            "text/html": [
              "<div>\n",
              "<style scoped>\n",
              "    .dataframe tbody tr th:only-of-type {\n",
              "        vertical-align: middle;\n",
              "    }\n",
              "\n",
              "    .dataframe tbody tr th {\n",
              "        vertical-align: top;\n",
              "    }\n",
              "\n",
              "    .dataframe thead th {\n",
              "        text-align: right;\n",
              "    }\n",
              "</style>\n",
              "<table border=\"1\" class=\"dataframe\">\n",
              "  <thead>\n",
              "    <tr style=\"text-align: right;\">\n",
              "      <th></th>\n",
              "      <th>urlid</th>\n",
              "      <th>label</th>\n",
              "      <th>joined</th>\n",
              "    </tr>\n",
              "  </thead>\n",
              "  <tbody>\n",
              "    <tr>\n",
              "      <th>0</th>\n",
              "      <td>4042</td>\n",
              "      <td>0</td>\n",
              "      <td>ibm sees holographic calls air breathing batte...</td>\n",
              "    </tr>\n",
              "    <tr>\n",
              "      <th>1</th>\n",
              "      <td>8471</td>\n",
              "      <td>1</td>\n",
              "      <td>fully electronic futuristic starting gun elimi...</td>\n",
              "    </tr>\n",
              "    <tr>\n",
              "      <th>2</th>\n",
              "      <td>1164</td>\n",
              "      <td>1</td>\n",
              "      <td>fruits fight flu fruits fight flu cold flu men...</td>\n",
              "    </tr>\n",
              "    <tr>\n",
              "      <th>3</th>\n",
              "      <td>6684</td>\n",
              "      <td>1</td>\n",
              "      <td>foolproof tips better sleep period life lot pr...</td>\n",
              "    </tr>\n",
              "    <tr>\n",
              "      <th>4</th>\n",
              "      <td>9006</td>\n",
              "      <td>0</td>\n",
              "      <td>coolest jerseys know existed coolest jerseys h...</td>\n",
              "    </tr>\n",
              "  </tbody>\n",
              "</table>\n",
              "</div>"
            ],
            "text/plain": [
              "   urlid  label                                             joined\n",
              "0   4042      0  ibm sees holographic calls air breathing batte...\n",
              "1   8471      1  fully electronic futuristic starting gun elimi...\n",
              "2   1164      1  fruits fight flu fruits fight flu cold flu men...\n",
              "3   6684      1  foolproof tips better sleep period life lot pr...\n",
              "4   9006      0  coolest jerseys know existed coolest jerseys h..."
            ]
          },
          "metadata": {
            "tags": []
          },
          "execution_count": 62
        }
      ]
    },
    {
      "cell_type": "code",
      "metadata": {
        "id": "bFlI_Fy9G830"
      },
      "source": [
        "train_new.joined = train_new.joined.astype(str)\r\n",
        "test_new.joined = test_new.joined.astype(str)"
      ],
      "execution_count": 63,
      "outputs": []
    },
    {
      "cell_type": "code",
      "metadata": {
        "colab": {
          "base_uri": "https://localhost:8080/"
        },
        "id": "_23sGEWPGQ17",
        "outputId": "fcf4fdf8-6f2b-4355-d6b2-251270ecdd44"
      },
      "source": [
        "train_new.info()"
      ],
      "execution_count": 64,
      "outputs": [
        {
          "output_type": "stream",
          "text": [
            "<class 'pandas.core.frame.DataFrame'>\n",
            "RangeIndex: 7394 entries, 0 to 7393\n",
            "Data columns (total 3 columns):\n",
            " #   Column  Non-Null Count  Dtype \n",
            "---  ------  --------------  ----- \n",
            " 0   urlid   7394 non-null   int64 \n",
            " 1   label   7394 non-null   int64 \n",
            " 2   joined  7394 non-null   object\n",
            "dtypes: int64(2), object(1)\n",
            "memory usage: 173.4+ KB\n"
          ],
          "name": "stdout"
        }
      ]
    },
    {
      "cell_type": "code",
      "metadata": {
        "colab": {
          "base_uri": "https://localhost:8080/",
          "height": 333
        },
        "id": "ACa5fH2YDNqX",
        "outputId": "2f03ede4-5ac7-47ac-8a3b-8f435b29cdc2"
      },
      "source": [
        "target_count = train_new.label.value_counts()\r\n",
        "print('Not Evergreen:', target_count[0])\r\n",
        "print('Evergreen:', target_count[1])\r\n",
        "print('Proportion:', round(target_count[0] / target_count[1], 2), ': 1')\r\n",
        "\r\n",
        "target_count.plot(kind='bar', title='Count (target)');"
      ],
      "execution_count": 65,
      "outputs": [
        {
          "output_type": "stream",
          "text": [
            "Not Evergreen: 3599\n",
            "Evergreen: 3795\n",
            "Proportion: 0.95 : 1\n"
          ],
          "name": "stdout"
        },
        {
          "output_type": "display_data",
          "data": {
            "image/png": "[encoded data removed]",
            "text/plain": [
              "<Figure size 432x288 with 1 Axes>"
            ]
          },
          "metadata": {
            "tags": [],
            "needs_background": "light"
          }
        }
      ]
    },
    {
      "cell_type": "code",
      "metadata": {
        "colab": {
          "base_uri": "https://localhost:8080/",
          "height": 283
        },
        "id": "N0M0IiR_Ito5",
        "outputId": "8570b9e0-59a4-4402-a2c2-c2488e18b854"
      },
      "source": [
        "train_new['len'] = train_new['joined'].apply(lambda x : len(x))\r\n",
        "train_new['len'].plot.hist(bins=100)"
      ],
      "execution_count": 66,
      "outputs": [
        {
          "output_type": "execute_result",
          "data": {
            "text/plain": [
              "<matplotlib.axes._subplots.AxesSubplot at 0x7f380ea96d90>"
            ]
          },
          "metadata": {
            "tags": []
          },
          "execution_count": 66
        },
        {
          "output_type": "display_data",
          "data": {
            "image/png": "[encoded data removed]",
            "text/plain": [
              "<Figure size 432x288 with 1 Axes>"
            ]
          },
          "metadata": {
            "tags": [],
            "needs_background": "light"
          }
        }
      ]
    },
    {
      "cell_type": "code",
      "metadata": {
        "id": "kakthaJYCVut"
      },
      "source": [
        "\r\n",
        "train_df, valid_df = train_test_split(train_new,\r\n",
        "                                      test_size=0.25,\r\n",
        "                                      random_state=42,\r\n",
        "                                      stratify = train_new.label)"
      ],
      "execution_count": 67,
      "outputs": []
    },
    {
      "cell_type": "code",
      "metadata": {
        "colab": {
          "base_uri": "https://localhost:8080/",
          "height": 424
        },
        "id": "EhDCcSf1MpH6",
        "outputId": "724e7bd4-895a-41a0-dabc-df53c5a76022"
      },
      "source": [
        "copy_df = valid_df.copy()\r\n",
        "\r\n",
        "copy_df"
      ],
      "execution_count": 68,
      "outputs": [
        {
          "output_type": "execute_result",
          "data": {
            "text/html": [
              "<div>\n",
              "<style scoped>\n",
              "    .dataframe tbody tr th:only-of-type {\n",
              "        vertical-align: middle;\n",
              "    }\n",
              "\n",
              "    .dataframe tbody tr th {\n",
              "        vertical-align: top;\n",
              "    }\n",
              "\n",
              "    .dataframe thead th {\n",
              "        text-align: right;\n",
              "    }\n",
              "</style>\n",
              "<table border=\"1\" class=\"dataframe\">\n",
              "  <thead>\n",
              "    <tr style=\"text-align: right;\">\n",
              "      <th></th>\n",
              "      <th>urlid</th>\n",
              "      <th>label</th>\n",
              "      <th>joined</th>\n",
              "      <th>len</th>\n",
              "    </tr>\n",
              "  </thead>\n",
              "  <tbody>\n",
              "    <tr>\n",
              "      <th>741</th>\n",
              "      <td>1905</td>\n",
              "      <td>1</td>\n",
              "      <td>oven roasted corn chile coconut milk obsessed ...</td>\n",
              "      <td>1526</td>\n",
              "    </tr>\n",
              "    <tr>\n",
              "      <th>1462</th>\n",
              "      <td>8326</td>\n",
              "      <td>1</td>\n",
              "      <td>nan</td>\n",
              "      <td>3</td>\n",
              "    </tr>\n",
              "    <tr>\n",
              "      <th>990</th>\n",
              "      <td>2136</td>\n",
              "      <td>0</td>\n",
              "      <td>nan</td>\n",
              "      <td>3</td>\n",
              "    </tr>\n",
              "    <tr>\n",
              "      <th>2875</th>\n",
              "      <td>1299</td>\n",
              "      <td>1</td>\n",
              "      <td>running songs bpm page workout songs playlists...</td>\n",
              "      <td>172</td>\n",
              "    </tr>\n",
              "    <tr>\n",
              "      <th>4881</th>\n",
              "      <td>9062</td>\n",
              "      <td>1</td>\n",
              "      <td>eric oshea elmo impression video eric oshea el...</td>\n",
              "      <td>3721</td>\n",
              "    </tr>\n",
              "    <tr>\n",
              "      <th>...</th>\n",
              "      <td>...</td>\n",
              "      <td>...</td>\n",
              "      <td>...</td>\n",
              "      <td>...</td>\n",
              "    </tr>\n",
              "    <tr>\n",
              "      <th>5485</th>\n",
              "      <td>282</td>\n",
              "      <td>0</td>\n",
              "      <td>unbelievable chocolate pudding made avocado ye...</td>\n",
              "      <td>1984</td>\n",
              "    </tr>\n",
              "    <tr>\n",
              "      <th>6426</th>\n",
              "      <td>5463</td>\n",
              "      <td>1</td>\n",
              "      <td>best brain foods mark daily apple welcome stum...</td>\n",
              "      <td>3360</td>\n",
              "    </tr>\n",
              "    <tr>\n",
              "      <th>43</th>\n",
              "      <td>383</td>\n",
              "      <td>1</td>\n",
              "      <td>power foods lower cholesterol high cholesterol...</td>\n",
              "      <td>1006</td>\n",
              "    </tr>\n",
              "    <tr>\n",
              "      <th>3958</th>\n",
              "      <td>5942</td>\n",
              "      <td>0</td>\n",
              "      <td>next generation technology flexible display fu...</td>\n",
              "      <td>785</td>\n",
              "    </tr>\n",
              "    <tr>\n",
              "      <th>1717</th>\n",
              "      <td>2527</td>\n",
              "      <td>1</td>\n",
              "      <td>chocolate peanut butter squares family kitchen...</td>\n",
              "      <td>1403</td>\n",
              "    </tr>\n",
              "  </tbody>\n",
              "</table>\n",
              "<p>1849 rows × 4 columns</p>\n",
              "</div>"
            ],
            "text/plain": [
              "      urlid  label                                             joined   len\n",
              "741    1905      1  oven roasted corn chile coconut milk obsessed ...  1526\n",
              "1462   8326      1                                                nan     3\n",
              "990    2136      0                                                nan     3\n",
              "2875   1299      1  running songs bpm page workout songs playlists...   172\n",
              "4881   9062      1  eric oshea elmo impression video eric oshea el...  3721\n",
              "...     ...    ...                                                ...   ...\n",
              "5485    282      0  unbelievable chocolate pudding made avocado ye...  1984\n",
              "6426   5463      1  best brain foods mark daily apple welcome stum...  3360\n",
              "43      383      1  power foods lower cholesterol high cholesterol...  1006\n",
              "3958   5942      0  next generation technology flexible display fu...   785\n",
              "1717   2527      1  chocolate peanut butter squares family kitchen...  1403\n",
              "\n",
              "[1849 rows x 4 columns]"
            ]
          },
          "metadata": {
            "tags": []
          },
          "execution_count": 68
        }
      ]
    },
    {
      "cell_type": "code",
      "metadata": {
        "colab": {
          "base_uri": "https://localhost:8080/"
        },
        "id": "XKVC-IES-U5F",
        "outputId": "81b0bf22-2ec6-4eb4-c900-82a51cfb8b5d"
      },
      "source": [
        "train_df.label.value_counts()"
      ],
      "execution_count": 11,
      "outputs": [
        {
          "output_type": "execute_result",
          "data": {
            "text/plain": [
              "1    2846\n",
              "0    2699\n",
              "Name: label, dtype: int64"
            ]
          },
          "metadata": {
            "tags": []
          },
          "execution_count": 11
        }
      ]
    },
    {
      "cell_type": "code",
      "metadata": {
        "colab": {
          "base_uri": "https://localhost:8080/"
        },
        "id": "NpVjo04dDSCc",
        "outputId": "5263d963-99ce-418a-ddc5-04bd1b82f851"
      },
      "source": [
        "valid_df.label.value_counts()"
      ],
      "execution_count": 12,
      "outputs": [
        {
          "output_type": "execute_result",
          "data": {
            "text/plain": [
              "1    949\n",
              "0    900\n",
              "Name: label, dtype: int64"
            ]
          },
          "metadata": {
            "tags": []
          },
          "execution_count": 12
        }
      ]
    },
    {
      "cell_type": "code",
      "metadata": {
        "id": "6EqteTqnDoni"
      },
      "source": [
        "text_field = data.Field(tokenize = 'spacy', batch_first=True, include_lengths = True)\r\n",
        "label_field = data.LabelField(dtype = torch.float, batch_first=True)"
      ],
      "execution_count": 13,
      "outputs": []
    },
    {
      "cell_type": "code",
      "metadata": {
        "id": "nIyuHaLhDoqs"
      },
      "source": [
        "class DataFrameDataset(data.Dataset):\r\n",
        "\r\n",
        "    def __init__(self, df, fields, is_test=False, **kwargs):\r\n",
        "        examples = []\r\n",
        "        for i, row in df.iterrows():\r\n",
        "            label = row.label\r\n",
        "            text = row.joined\r\n",
        "            examples.append(data.Example.fromlist([text, label], fields))\r\n",
        "\r\n",
        "        super().__init__(examples, fields, **kwargs)\r\n",
        "\r\n",
        "    @staticmethod\r\n",
        "    def sort_key(ex):\r\n",
        "        return len(ex.text)\r\n",
        "\r\n",
        "    @classmethod\r\n",
        "    def splits(cls, fields, train_df, val_df=None, test_df=None, **kwargs):\r\n",
        "        train_data, val_data, test_data = (None, None, None)\r\n",
        "        data_field = fields\r\n",
        "\r\n",
        "        if train_df is not None:\r\n",
        "            train_data = cls(train_df.copy(), data_field, **kwargs)\r\n",
        "        if val_df is not None:\r\n",
        "            val_data = cls(val_df.copy(), data_field, **kwargs)\r\n",
        "        if test_df is not None:\r\n",
        "            test_data = cls(test_df.copy(), data_field, False, **kwargs)\r\n",
        "\r\n",
        "        return tuple(d for d in (train_data, val_data, test_data) if d is not None)\r\n",
        "\r\n"
      ],
      "execution_count": 14,
      "outputs": []
    },
    {
      "cell_type": "code",
      "metadata": {
        "id": "nGzne_DGPKSd"
      },
      "source": [
        "fields = [('text',text_field), ('label',label_field)]\r\n",
        "\r\n",
        "train_ds, val_ds = DataFrameDataset.splits(fields, train_df=train_df, val_df=valid_df)"
      ],
      "execution_count": 15,
      "outputs": []
    },
    {
      "cell_type": "code",
      "metadata": {
        "id": "zq6gXWAVgedu"
      },
      "source": [
        "from torchtext.vocab import Vectors\r\n",
        "\r\n",
        "\r\n",
        "vectors = Vectors(name='wiki-news-300d-1M.vec', cache='./')\r\n",
        "\r\n",
        "MAX_VOCAB_SIZE = 100000\r\n",
        "\r\n",
        "text_field.build_vocab(train_ds, \r\n",
        "                 max_size = MAX_VOCAB_SIZE, \r\n",
        "                 vectors = vectors,\r\n",
        "                 unk_init = torch.Tensor.zero_)\r\n",
        "label_field.build_vocab(train_ds)"
      ],
      "execution_count": 16,
      "outputs": []
    },
    {
      "cell_type": "code",
      "metadata": {
        "colab": {
          "base_uri": "https://localhost:8080/"
        },
        "id": "kVXHfyNDmr9O",
        "outputId": "f619c25f-3f0e-488a-df1c-9539377ca9cc"
      },
      "source": [
        "\r\n",
        "\r\n",
        "#No. of unique tokens in text\r\n",
        "print(\"Size of TEXT vocabulary:\",len(text_field.vocab))\r\n",
        "\r\n",
        "#No. of unique tokens in label\r\n",
        "print(\"Size of LABEL vocabulary:\",len(label_field.vocab))\r\n",
        "\r\n",
        "#Commonly used words\r\n",
        "print(text_field.vocab.freqs.most_common(10)) "
      ],
      "execution_count": 17,
      "outputs": [
        {
          "output_type": "stream",
          "text": [
            "Size of TEXT vocabulary: 69378\n",
            "Size of LABEL vocabulary: 2\n",
            "[('one', 6630), ('like', 5523), ('make', 5362), ('recipe', 4962), ('cup', 4672), ('time', 4484), ('food', 4349), ('minutes', 3888), ('add', 3818), ('get', 3778)]\n"
          ],
          "name": "stdout"
        }
      ]
    },
    {
      "cell_type": "code",
      "metadata": {
        "id": "AshVSBEIrfW2"
      },
      "source": [
        "BATCH_SIZE = 32\r\n",
        "\r\n",
        "device = torch.device('cuda' if torch.cuda.is_available() else 'cpu')\r\n",
        "\r\n",
        "train_iterator, valid_iterator = data.BucketIterator.splits(\r\n",
        "    (train_ds, val_ds), \r\n",
        "    batch_size = BATCH_SIZE,\r\n",
        "    sort_within_batch = True,\r\n",
        "    device = device)"
      ],
      "execution_count": 18,
      "outputs": []
    },
    {
      "cell_type": "code",
      "metadata": {
        "id": "0OcWwsH0rkeO"
      },
      "source": [
        "# Hyperparameters\r\n",
        "num_epochs = 25\r\n",
        "learning_rate = 0.001\r\n",
        "\r\n",
        "INPUT_DIM = len(text_field.vocab)\r\n",
        "EMBEDDING_DIM = 300\r\n",
        "HIDDEN_DIM = 256\r\n",
        "OUTPUT_DIM = 1\r\n",
        "N_LAYERS = 2\r\n",
        "BIDIRECTIONAL = True\r\n",
        "DROPOUT = 0.2\r\n",
        "PAD_IDX = text_field.vocab.stoi[text_field.pad_token] # padding"
      ],
      "execution_count": 19,
      "outputs": []
    },
    {
      "cell_type": "code",
      "metadata": {
        "id": "pHpL2sy7m2Mb"
      },
      "source": [
        "class LSTMModel(nn.Module):\r\n",
        "    def __init__(self, vocab_size, embedding_dim, hidden_dim, output_dim, n_layers, \r\n",
        "                 bidirectional, dropout, pad_idx):\r\n",
        "        \r\n",
        "        super().__init__()\r\n",
        "        \r\n",
        "        self.embedding = nn.Embedding(vocab_size, embedding_dim, padding_idx = pad_idx)\r\n",
        "        \r\n",
        "        self.rnn = nn.LSTM(embedding_dim, \r\n",
        "                           hidden_dim, \r\n",
        "                           num_layers=n_layers, \r\n",
        "                           bidirectional=bidirectional, \r\n",
        "                           dropout=dropout,\r\n",
        "                           batch_first=True)\r\n",
        "        \r\n",
        "        self.fc1 = nn.Linear(hidden_dim * 2, hidden_dim)\r\n",
        "        \r\n",
        "        self.fc2 = nn.Linear(hidden_dim, 1)\r\n",
        "        \r\n",
        "        self.dropout = nn.Dropout(dropout)\r\n",
        "\r\n",
        "        \r\n",
        "    def forward(self, text, text_lengths):\r\n",
        "       \r\n",
        "        embedded = self.embedding(text)\r\n",
        "        packed_embedded = nn.utils.rnn.pack_padded_sequence(embedded, text_lengths, batch_first=True)\r\n",
        "        packed_output, (hidden, cell) = self.rnn(packed_embedded)\r\n",
        "        hidden = self.dropout(torch.cat((hidden[-2,:,:], hidden[-1,:,:]), dim = 1))\r\n",
        "        output = self.fc1(hidden)\r\n",
        "        output = self.dropout(self.fc2(output))\r\n",
        "           \r\n",
        "        return output"
      ],
      "execution_count": 20,
      "outputs": []
    },
    {
      "cell_type": "code",
      "metadata": {
        "id": "JI89BM1pdHjX"
      },
      "source": [
        "model = LSTMModel(INPUT_DIM, \r\n",
        "            EMBEDDING_DIM, \r\n",
        "            HIDDEN_DIM, \r\n",
        "            OUTPUT_DIM, \r\n",
        "            N_LAYERS, \r\n",
        "            BIDIRECTIONAL, \r\n",
        "            DROPOUT, \r\n",
        "            PAD_IDX)"
      ],
      "execution_count": 21,
      "outputs": []
    },
    {
      "cell_type": "code",
      "metadata": {
        "id": "GToGNFn6sRap"
      },
      "source": [
        "pretrained_embeddings = text_field.vocab.vectors\r\n",
        "model.embedding.weight.data.copy_(pretrained_embeddings)\r\n",
        "\r\n",
        "#  to initiaise padded to zeros\r\n",
        "model.embedding.weight.data[PAD_IDX] = torch.zeros(EMBEDDING_DIM)"
      ],
      "execution_count": 23,
      "outputs": []
    },
    {
      "cell_type": "code",
      "metadata": {
        "id": "wVUblDLXAYX2"
      },
      "source": [
        "def binary_accuracy(preds, y):\r\n",
        "    \r\n",
        "    rounded_preds = torch.round(torch.sigmoid(preds))\r\n",
        "    correct = (rounded_preds == y).float() #convert into float for division \r\n",
        "    acc = correct.sum() / len(correct)\r\n",
        "    return acc"
      ],
      "execution_count": 36,
      "outputs": []
    },
    {
      "cell_type": "code",
      "metadata": {
        "id": "PHofU6Mgttlc"
      },
      "source": [
        "\r\n",
        "def train(model, iterator, optimizer, criterion):\r\n",
        "    \r\n",
        "    epoch_loss = 0\r\n",
        "    epoch_acc = 0\r\n",
        "    \r\n",
        "    model.train()\r\n",
        "    \r\n",
        "    for batch in iterator:\r\n",
        "        optimizer.zero_grad()\r\n",
        "        text, text_lengths = batch.text\r\n",
        "        predictions = model(text, text_lengths).squeeze(1)\r\n",
        "        loss = criterion(predictions, batch.label)\r\n",
        "        acc = binary_accuracy(predictions, batch.label)\r\n",
        "\r\n",
        "        loss.backward()\r\n",
        "        optimizer.step()\r\n",
        "        \r\n",
        "        epoch_loss += loss.item()\r\n",
        "        epoch_acc += acc.item()\r\n",
        "        \r\n",
        "\r\n",
        "    return epoch_loss / len(iterator), epoch_acc / len(iterator)"
      ],
      "execution_count": 40,
      "outputs": []
    },
    {
      "cell_type": "code",
      "metadata": {
        "id": "pb6QdU1ot3NK"
      },
      "source": [
        "def evaluate(model, iterator, criterion):\r\n",
        "    \r\n",
        "    \r\n",
        "    epoch_loss = 0\r\n",
        "    epoch_acc = 0\r\n",
        "    \r\n",
        "    model.eval()\r\n",
        "    \r\n",
        "    with torch.no_grad():\r\n",
        "        for batch in iterator:\r\n",
        "            text, text_lengths = batch.text\r\n",
        "            predictions = model(text, text_lengths).squeeze(1)\r\n",
        "            \r\n",
        "            \r\n",
        "            loss = criterion(predictions, batch.label)\r\n",
        "            acc = binary_accuracy(predictions, batch.label)\r\n",
        "            \r\n",
        "            \r\n",
        "            epoch_loss += loss.item()\r\n",
        "            epoch_acc += acc.item()\r\n",
        "        \r\n",
        "    return epoch_loss / len(iterator), epoch_acc / len(iterator)\r\n"
      ],
      "execution_count": 41,
      "outputs": []
    },
    {
      "cell_type": "code",
      "metadata": {
        "colab": {
          "base_uri": "https://localhost:8080/"
        },
        "id": "3pXTLWXXsnaY",
        "outputId": "2a6b5498-7c67-4102-ef8f-a818fed15d55"
      },
      "source": [
        "import time\r\n",
        "loss=[]\r\n",
        "acc=[]\r\n",
        "val_acc=[]\r\n",
        "t = time.time()\r\n",
        "best_valid_loss = float('inf')\r\n",
        "\r\n",
        "model.to(device) \r\n",
        "\r\n",
        "criterion = nn.BCEWithLogitsLoss()\r\n",
        "optimizer = torch.optim.Adam(model.parameters(), lr=learning_rate)\r\n",
        "\r\n",
        "for epoch in range(num_epochs):\r\n",
        "    \r\n",
        "    train_loss, train_acc = train(model, train_iterator, optimizer, criterion)\r\n",
        "    valid_loss, valid_acc = evaluate(model, valid_iterator, criterion)\r\n",
        "\r\n",
        "    print(f'\\tTrain Loss: {train_loss:.4f} | Train Acc: {train_acc:.4f}')\r\n",
        "    print(f'\\t Val. Loss: {valid_loss:.4f} | Val. Acc: {valid_acc:.4f}')\r\n",
        "    \r\n",
        "    \r\n",
        "    if valid_loss < best_valid_loss:\r\n",
        "        best_valid_loss = valid_loss\r\n",
        "        torch.save(model.state_dict(), 'best_model.pt')\r\n",
        "    \r\n",
        "print(f'time:{time.time()-t:.3f}')"
      ],
      "execution_count": 43,
      "outputs": [
        {
          "output_type": "stream",
          "text": [
            "\tTrain Loss: 0.3815 | Train Acc: 0.7953\n",
            "\t Val. Loss: 0.4663 | Val. Acc: 0.7842\n",
            "\tTrain Loss: 0.3097 | Train Acc: 0.8303\n",
            "\t Val. Loss: 0.5711 | Val. Acc: 0.7632\n",
            "\tTrain Loss: 0.2617 | Train Acc: 0.8540\n",
            "\t Val. Loss: 0.6486 | Val. Acc: 0.7582\n",
            "\tTrain Loss: 0.2198 | Train Acc: 0.8685\n",
            "\t Val. Loss: 0.6402 | Val. Acc: 0.7496\n",
            "\tTrain Loss: 0.1960 | Train Acc: 0.8725\n",
            "\t Val. Loss: 0.9215 | Val. Acc: 0.7407\n",
            "\tTrain Loss: 0.1762 | Train Acc: 0.8885\n",
            "\t Val. Loss: 1.0735 | Val. Acc: 0.7384\n",
            "\tTrain Loss: 0.1781 | Train Acc: 0.8806\n",
            "\t Val. Loss: 0.9831 | Val. Acc: 0.7442\n",
            "\tTrain Loss: 0.1862 | Train Acc: 0.8754\n",
            "\t Val. Loss: 1.0328 | Val. Acc: 0.7413\n",
            "\tTrain Loss: 0.1762 | Train Acc: 0.8774\n",
            "\t Val. Loss: 0.8558 | Val. Acc: 0.7521\n",
            "\tTrain Loss: 0.1751 | Train Acc: 0.8809\n",
            "\t Val. Loss: 1.1716 | Val. Acc: 0.7496\n",
            "\tTrain Loss: 0.1704 | Train Acc: 0.8855\n",
            "\t Val. Loss: 1.2316 | Val. Acc: 0.7535\n",
            "\tTrain Loss: 0.1716 | Train Acc: 0.8763\n",
            "\t Val. Loss: 1.2927 | Val. Acc: 0.7553\n",
            "\tTrain Loss: 0.1740 | Train Acc: 0.8795\n",
            "\t Val. Loss: 1.4127 | Val. Acc: 0.7537\n",
            "\tTrain Loss: 0.1728 | Train Acc: 0.8808\n",
            "\t Val. Loss: 1.3730 | Val. Acc: 0.7462\n",
            "\tTrain Loss: 0.1735 | Train Acc: 0.8795\n",
            "\t Val. Loss: 1.3866 | Val. Acc: 0.7505\n",
            "\tTrain Loss: 0.1680 | Train Acc: 0.8832\n",
            "\t Val. Loss: 1.3692 | Val. Acc: 0.7509\n",
            "\tTrain Loss: 0.1702 | Train Acc: 0.8766\n",
            "\t Val. Loss: 1.1248 | Val. Acc: 0.7525\n",
            "\tTrain Loss: 0.1791 | Train Acc: 0.8771\n",
            "\t Val. Loss: 1.5390 | Val. Acc: 0.7390\n",
            "\tTrain Loss: 0.1753 | Train Acc: 0.8834\n",
            "\t Val. Loss: 0.8680 | Val. Acc: 0.7463\n",
            "\tTrain Loss: 0.1897 | Train Acc: 0.8657\n",
            "\t Val. Loss: 1.0261 | Val. Acc: 0.7533\n",
            "\tTrain Loss: 0.1788 | Train Acc: 0.8782\n",
            "\t Val. Loss: 0.8881 | Val. Acc: 0.7482\n",
            "\tTrain Loss: 0.1725 | Train Acc: 0.8814\n",
            "\t Val. Loss: 1.2397 | Val. Acc: 0.7494\n",
            "\tTrain Loss: 0.1697 | Train Acc: 0.8749\n",
            "\t Val. Loss: 1.0681 | Val. Acc: 0.7478\n",
            "\tTrain Loss: 0.1640 | Train Acc: 0.8877\n",
            "\t Val. Loss: 1.2574 | Val. Acc: 0.7446\n",
            "\tTrain Loss: 0.1731 | Train Acc: 0.8765\n",
            "\t Val. Loss: 1.2713 | Val. Acc: 0.7416\n",
            "time:528.190\n"
          ],
          "name": "stdout"
        }
      ]
    },
    {
      "cell_type": "code",
      "metadata": {
        "id": "mtm-2oTdFYMW"
      },
      "source": [
        "#inference \r\n",
        "import spacy\r\n",
        "nlp = spacy.load('en')\r\n",
        "\r\n",
        "def predict(model, sentence):\r\n",
        "    tokenized = [tok.text for tok in nlp.tokenizer(sentence)]  #tokenize the sentence \r\n",
        "    indexed = [text_field.vocab.stoi[t] for t in tokenized]          #convert to integer sequence\r\n",
        "    length = [len(indexed)]                                    #compute no. of words\r\n",
        "    tensor = torch.LongTensor(indexed).to(device)              #convert to tensor\r\n",
        "    tensor = tensor.unsqueeze(1).T                             #reshape in form of batch,no. of words\r\n",
        "    length_tensor = torch.LongTensor(length)                   #convert to tensor\r\n",
        "    \r\n",
        "    prediction = model(tensor, length_tensor).squeeze(1)       #prediction \r\n",
        "\r\n",
        "    rounded_preds = torch.round(torch.sigmoid(prediction))\r\n",
        "    predict_class = rounded_preds.tolist()[0]\r\n",
        "    return predict_class\r\n",
        "\r\n"
      ],
      "execution_count": 47,
      "outputs": []
    },
    {
      "cell_type": "code",
      "metadata": {
        "id": "65XAsos-F1t0"
      },
      "source": [
        "PATH = \"best_model.pt\"\r\n",
        "\r\n",
        "model.load_state_dict(torch.load(PATH))\r\n",
        "\r\n",
        "predicts = []\r\n",
        "\r\n",
        "for i in range(len(test_new.joined)):\r\n",
        "    predict_class = predict(model, test_new.joined[i])\r\n",
        "    predicts.append(int(predict_class))"
      ],
      "execution_count": null,
      "outputs": []
    },
    {
      "cell_type": "code",
      "metadata": {
        "colab": {
          "base_uri": "https://localhost:8080/",
          "height": 424
        },
        "id": "8kZ4BtArG4b0",
        "outputId": "99d6ee5b-04de-4cc4-aacc-f62eab16d78f"
      },
      "source": [
        "submission = pd.read_csv(\"sampleSubmission.csv\")\r\n",
        "submission['label'] = predicts\r\n",
        "submission"
      ],
      "execution_count": 97,
      "outputs": [
        {
          "output_type": "execute_result",
          "data": {
            "text/html": [
              "<div>\n",
              "<style scoped>\n",
              "    .dataframe tbody tr th:only-of-type {\n",
              "        vertical-align: middle;\n",
              "    }\n",
              "\n",
              "    .dataframe tbody tr th {\n",
              "        vertical-align: top;\n",
              "    }\n",
              "\n",
              "    .dataframe thead th {\n",
              "        text-align: right;\n",
              "    }\n",
              "</style>\n",
              "<table border=\"1\" class=\"dataframe\">\n",
              "  <thead>\n",
              "    <tr style=\"text-align: right;\">\n",
              "      <th></th>\n",
              "      <th>urlid</th>\n",
              "      <th>label</th>\n",
              "    </tr>\n",
              "  </thead>\n",
              "  <tbody>\n",
              "    <tr>\n",
              "      <th>0</th>\n",
              "      <td>5865</td>\n",
              "      <td>0</td>\n",
              "    </tr>\n",
              "    <tr>\n",
              "      <th>1</th>\n",
              "      <td>782</td>\n",
              "      <td>1</td>\n",
              "    </tr>\n",
              "    <tr>\n",
              "      <th>2</th>\n",
              "      <td>6962</td>\n",
              "      <td>0</td>\n",
              "    </tr>\n",
              "    <tr>\n",
              "      <th>3</th>\n",
              "      <td>7640</td>\n",
              "      <td>1</td>\n",
              "    </tr>\n",
              "    <tr>\n",
              "      <th>4</th>\n",
              "      <td>3589</td>\n",
              "      <td>0</td>\n",
              "    </tr>\n",
              "    <tr>\n",
              "      <th>...</th>\n",
              "      <td>...</td>\n",
              "      <td>...</td>\n",
              "    </tr>\n",
              "    <tr>\n",
              "      <th>3166</th>\n",
              "      <td>7264</td>\n",
              "      <td>0</td>\n",
              "    </tr>\n",
              "    <tr>\n",
              "      <th>3167</th>\n",
              "      <td>9714</td>\n",
              "      <td>0</td>\n",
              "    </tr>\n",
              "    <tr>\n",
              "      <th>3168</th>\n",
              "      <td>5903</td>\n",
              "      <td>1</td>\n",
              "    </tr>\n",
              "    <tr>\n",
              "      <th>3169</th>\n",
              "      <td>3176</td>\n",
              "      <td>1</td>\n",
              "    </tr>\n",
              "    <tr>\n",
              "      <th>3170</th>\n",
              "      <td>7441</td>\n",
              "      <td>0</td>\n",
              "    </tr>\n",
              "  </tbody>\n",
              "</table>\n",
              "<p>3171 rows × 2 columns</p>\n",
              "</div>"
            ],
            "text/plain": [
              "      urlid  label\n",
              "0      5865      0\n",
              "1       782      1\n",
              "2      6962      0\n",
              "3      7640      1\n",
              "4      3589      0\n",
              "...     ...    ...\n",
              "3166   7264      0\n",
              "3167   9714      0\n",
              "3168   5903      1\n",
              "3169   3176      1\n",
              "3170   7441      0\n",
              "\n",
              "[3171 rows x 2 columns]"
            ]
          },
          "metadata": {
            "tags": []
          },
          "execution_count": 97
        }
      ]
    },
    {
      "cell_type": "code",
      "metadata": {
        "id": "e1WHYk4JGVbu"
      },
      "source": [
        "submission.to_csv('submission1.csv',index=False)"
      ],
      "execution_count": 94,
      "outputs": []
    },
    {
      "cell_type": "code",
      "metadata": {
        "id": "-KYX3m5pLfI_"
      },
      "source": [
        "\r\n",
        "another_predicts = []\r\n",
        "\r\n",
        "for i in range(len(train_new.joined)):\r\n",
        "    predict_class = predict(model,train_new.joined[i])\r\n",
        "    another_predicts.append(int(abs(predict_class - 1)))"
      ],
      "execution_count": 88,
      "outputs": []
    },
    {
      "cell_type": "code",
      "metadata": {
        "colab": {
          "base_uri": "https://localhost:8080/",
          "height": 424
        },
        "id": "d7bqBjYkMBgx",
        "outputId": "5b0c5502-bded-4462-a883-c3ff49c8d670"
      },
      "source": [
        "copy_df = train_new.copy()\r\n",
        "copy_df['predict'] = another_predicts\r\n",
        "copy_df"
      ],
      "execution_count": 89,
      "outputs": [
        {
          "output_type": "execute_result",
          "data": {
            "text/html": [
              "<div>\n",
              "<style scoped>\n",
              "    .dataframe tbody tr th:only-of-type {\n",
              "        vertical-align: middle;\n",
              "    }\n",
              "\n",
              "    .dataframe tbody tr th {\n",
              "        vertical-align: top;\n",
              "    }\n",
              "\n",
              "    .dataframe thead th {\n",
              "        text-align: right;\n",
              "    }\n",
              "</style>\n",
              "<table border=\"1\" class=\"dataframe\">\n",
              "  <thead>\n",
              "    <tr style=\"text-align: right;\">\n",
              "      <th></th>\n",
              "      <th>urlid</th>\n",
              "      <th>label</th>\n",
              "      <th>joined</th>\n",
              "      <th>len</th>\n",
              "      <th>predict</th>\n",
              "    </tr>\n",
              "  </thead>\n",
              "  <tbody>\n",
              "    <tr>\n",
              "      <th>0</th>\n",
              "      <td>4042</td>\n",
              "      <td>0</td>\n",
              "      <td>ibm sees holographic calls air breathing batte...</td>\n",
              "      <td>4687</td>\n",
              "      <td>0</td>\n",
              "    </tr>\n",
              "    <tr>\n",
              "      <th>1</th>\n",
              "      <td>8471</td>\n",
              "      <td>1</td>\n",
              "      <td>fully electronic futuristic starting gun elimi...</td>\n",
              "      <td>2264</td>\n",
              "      <td>1</td>\n",
              "    </tr>\n",
              "    <tr>\n",
              "      <th>2</th>\n",
              "      <td>1164</td>\n",
              "      <td>1</td>\n",
              "      <td>fruits fight flu fruits fight flu cold flu men...</td>\n",
              "      <td>1141</td>\n",
              "      <td>1</td>\n",
              "    </tr>\n",
              "    <tr>\n",
              "      <th>3</th>\n",
              "      <td>6684</td>\n",
              "      <td>1</td>\n",
              "      <td>foolproof tips better sleep period life lot pr...</td>\n",
              "      <td>1789</td>\n",
              "      <td>1</td>\n",
              "    </tr>\n",
              "    <tr>\n",
              "      <th>4</th>\n",
              "      <td>9006</td>\n",
              "      <td>0</td>\n",
              "      <td>coolest jerseys know existed coolest jerseys h...</td>\n",
              "      <td>8674</td>\n",
              "      <td>0</td>\n",
              "    </tr>\n",
              "    <tr>\n",
              "      <th>...</th>\n",
              "      <td>...</td>\n",
              "      <td>...</td>\n",
              "      <td>...</td>\n",
              "      <td>...</td>\n",
              "      <td>...</td>\n",
              "    </tr>\n",
              "    <tr>\n",
              "      <th>7389</th>\n",
              "      <td>8958</td>\n",
              "      <td>0</td>\n",
              "      <td>kno raises million build powerful tablet anyon...</td>\n",
              "      <td>1540</td>\n",
              "      <td>0</td>\n",
              "    </tr>\n",
              "    <tr>\n",
              "      <th>7390</th>\n",
              "      <td>8895</td>\n",
              "      <td>0</td>\n",
              "      <td>miss college mar like congratulate jane believ...</td>\n",
              "      <td>643</td>\n",
              "      <td>0</td>\n",
              "    </tr>\n",
              "    <tr>\n",
              "      <th>7391</th>\n",
              "      <td>1191</td>\n",
              "      <td>1</td>\n",
              "      <td>sweet potatoes eat im eating loaded vitamin c ...</td>\n",
              "      <td>283</td>\n",
              "      <td>1</td>\n",
              "    </tr>\n",
              "    <tr>\n",
              "      <th>7392</th>\n",
              "      <td>5612</td>\n",
              "      <td>1</td>\n",
              "      <td>naturally ella</td>\n",
              "      <td>14</td>\n",
              "      <td>1</td>\n",
              "    </tr>\n",
              "    <tr>\n",
              "      <th>7393</th>\n",
              "      <td>90</td>\n",
              "      <td>0</td>\n",
              "      <td>esti ginzburg swimsuit letarte lisa cabrinha s...</td>\n",
              "      <td>810</td>\n",
              "      <td>0</td>\n",
              "    </tr>\n",
              "  </tbody>\n",
              "</table>\n",
              "<p>7394 rows × 5 columns</p>\n",
              "</div>"
            ],
            "text/plain": [
              "      urlid  label  ...   len  predict\n",
              "0      4042      0  ...  4687        0\n",
              "1      8471      1  ...  2264        1\n",
              "2      1164      1  ...  1141        1\n",
              "3      6684      1  ...  1789        1\n",
              "4      9006      0  ...  8674        0\n",
              "...     ...    ...  ...   ...      ...\n",
              "7389   8958      0  ...  1540        0\n",
              "7390   8895      0  ...   643        0\n",
              "7391   1191      1  ...   283        1\n",
              "7392   5612      1  ...    14        1\n",
              "7393     90      0  ...   810        0\n",
              "\n",
              "[7394 rows x 5 columns]"
            ]
          },
          "metadata": {
            "tags": []
          },
          "execution_count": 89
        }
      ]
    },
    {
      "cell_type": "markdown",
      "metadata": {
        "id": "DRtDkG0xLCKM"
      },
      "source": [
        ""
      ]
    },
    {
      "cell_type": "code",
      "metadata": {
        "colab": {
          "base_uri": "https://localhost:8080/"
        },
        "id": "CZ3ep6MAKoLK",
        "outputId": "c2164730-f5e8-403a-9d0b-042282a666d5"
      },
      "source": [
        "from sklearn import metrics\r\n",
        "from sklearn.metrics import accuracy_score, classification_report, confusion_matrix\r\n",
        "\r\n",
        "print('\\t\\tCLASSIFICATIION METRICS\\n')\r\n",
        "print(metrics.classification_report(copy_df.label, copy_df.predict))"
      ],
      "execution_count": 90,
      "outputs": [
        {
          "output_type": "stream",
          "text": [
            "\t\tCLASSIFICATIION METRICS\n",
            "\n",
            "              precision    recall  f1-score   support\n",
            "\n",
            "           0       0.85      0.92      0.88      3599\n",
            "           1       0.92      0.85      0.88      3795\n",
            "\n",
            "    accuracy                           0.88      7394\n",
            "   macro avg       0.88      0.88      0.88      7394\n",
            "weighted avg       0.89      0.88      0.88      7394\n",
            "\n"
          ],
          "name": "stdout"
        }
      ]
    },
    {
      "cell_type": "code",
      "metadata": {
        "colab": {
          "base_uri": "https://localhost:8080/",
          "height": 313
        },
        "id": "Oyv5yJEcQj0-",
        "outputId": "1c835bd4-0f20-49be-9153-5b58d2f65424"
      },
      "source": [
        "cm = confusion_matrix(copy_df.label, copy_df.predict, labels=[1,0])\r\n",
        "ax= plt.subplot()\r\n",
        "sns.heatmap(cm, annot=True, ax = ax, cmap='Blues', fmt=\"d\")\r\n",
        "ax.set_title('Confusion Matrix')\r\n",
        "ax.set_xlabel('Predicted Labels')\r\n",
        "ax.set_ylabel('True Labels')\r\n",
        "ax.xaxis.set_ticklabels(['FAKE', 'REAL'])\r\n",
        "ax.yaxis.set_ticklabels(['FAKE', 'REAL'])"
      ],
      "execution_count": 91,
      "outputs": [
        {
          "output_type": "execute_result",
          "data": {
            "text/plain": [
              "[Text(0, 0.5, 'FAKE'), Text(0, 1.5, 'REAL')]"
            ]
          },
          "metadata": {
            "tags": []
          },
          "execution_count": 91
        },
        {
          "output_type": "display_data",
          "data": {
            "image/png": "[encoded data removed]",
            "text/plain": [
              "<Figure size 432x288 with 2 Axes>"
            ]
          },
          "metadata": {
            "tags": [],
            "needs_background": "light"
          }
        }
      ]
    },
    {
      "cell_type": "code",
      "metadata": {
        "id": "JYDmJ-k8Q_CL"
      },
      "source": [
        ""
      ],
      "execution_count": null,
      "outputs": []
    }
  ]
}